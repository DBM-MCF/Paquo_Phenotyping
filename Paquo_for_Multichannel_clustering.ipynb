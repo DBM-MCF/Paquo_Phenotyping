{
 "cells": [
  {
   "cell_type": "code",
   "execution_count": null,
   "id": "8f61657a",
   "metadata": {},
   "outputs": [],
   "source": [
    "# script to load cell information from QuPath project, cluster data with eg. Phenograph\n",
    "# and add new measurement into cell measurements \n",
    "# using documentation from https://paquo.readthedocs.io/ & https://github.com/dpeerlab/PhenoGraph\n",
    "#\n",
    "# ewelina.bartoszek@unibas.ch with help from @tibuch & @lacan\n",
    "# 20241122"
   ]
  },
  {
   "cell_type": "code",
   "execution_count": null,
   "id": "22eefade",
   "metadata": {},
   "outputs": [],
   "source": [
    "#import libraries\n",
    "\n",
    "from paquo.projects import QuPathProject\n",
    "import pandas as pd\n",
    "import anndata as ad\n",
    "import numpy as np\n",
    "from matplotlib import pyplot as plt\n",
    "import phenograph\n",
    "import scanpy as sc\n"
   ]
  },
  {
   "cell_type": "code",
   "execution_count": null,
   "id": "e720bb4a",
   "metadata": {},
   "outputs": [],
   "source": [
    "# Import QuPath Project\n",
    "qp = QuPathProject('path to folder/project.qpproj', mode='a')\n"
   ]
  },
  {
   "cell_type": "code",
   "execution_count": null,
   "id": "b5386b34",
   "metadata": {},
   "outputs": [],
   "source": [
    "#loop over all images\n",
    "\n",
    "allCells = []\n",
    "for image in qp.images:\n",
    "    detections = image.hierarchy.detections  # detections are stored in a set like proxy object\n",
    "    df = pd.DataFrame(detection.measurements for detection in detections)  # put the measurements dictionary for each detection into a pandas DataFrame\n",
    "    df[\"imageN\"]=image.image_name\n",
    "    allCells.append(df)\n",
    "allCells = pd.concat(allCells)\n",
    "\n",
    "#positions=pd.DataFrame"
   ]
  },
  {
   "cell_type": "code",
   "execution_count": null,
   "id": "4255dbb3",
   "metadata": {},
   "outputs": [],
   "source": [
    "display(allCells)"
   ]
  },
  {
   "cell_type": "code",
   "execution_count": null,
   "id": "6c13a14a",
   "metadata": {},
   "outputs": [],
   "source": [
    "df1=allCells.filter(regex='.*Cell: Mean$')\n",
    "display(df1)"
   ]
  },
  {
   "cell_type": "code",
   "execution_count": null,
   "id": "6da356aa",
   "metadata": {},
   "outputs": [],
   "source": [
    "#for a loop\n",
    "# Keep only cell measurements\n",
    "df1=allCells.filter(regex='.*Cell: Mean$')\n",
    "df2=df1.loc[:, ['Marker1: Cell: Mean',  'Marker2: Cell: Mean', 'Marker3: Cell: Mean','Marker4: Cell: Mean', 'Marker5: Cell: Mean']]\n",
    "display(df2)"
   ]
  },
  {
   "cell_type": "code",
   "execution_count": null,
   "id": "27b76b04",
   "metadata": {},
   "outputs": [],
   "source": [
    "# Convert to AnnData for use with PhenoGraph\n",
    "adata = ad.AnnData(df2)\n",
    "display(adata)"
   ]
  },
  {
   "cell_type": "code",
   "execution_count": null,
   "id": "c8b17334",
   "metadata": {},
   "outputs": [],
   "source": [
    "adata = sc.tl.pca(adata, n_comps = 3, copy = True)"
   ]
  },
  {
   "cell_type": "code",
   "execution_count": null,
   "id": "e5c87dc3",
   "metadata": {},
   "outputs": [],
   "source": [
    "# Cumulative variance explained:\n",
    "cml_var_explained = np.cumsum(adata.uns['pca']['variance_ratio'])\n",
    "x = range(len(adata.uns['pca']['variance_ratio']))\n",
    "y = cml_var_explained\n",
    "plt.scatter(x, y, s=4)\n",
    "plt.xlabel('PC')\n",
    "plt.ylabel('Cumulative variance explained')\n",
    "plt.title('Cumulative variance explained by PCs')\n",
    "plt.show()"
   ]
  },
  {
   "cell_type": "code",
   "execution_count": null,
   "id": "ed6c1220",
   "metadata": {},
   "outputs": [],
   "source": [
    "#display(adata.X)"
   ]
  },
  {
   "cell_type": "code",
   "execution_count": null,
   "id": "06079b13",
   "metadata": {},
   "outputs": [],
   "source": [
    "# Finally PhenoGraph\n",
    "# define number of neighbours\n",
    "k=60  \n",
    "communities, graph, Q = phenograph.cluster(adata.X, k=k)\n",
    "# store the results in adata:\n",
    "adata.obs['PhenoGraph_clusters'] = pd.Categorical(communities)\n",
    "adata.uns['PhenoGraph_Q'] = Q\n",
    "adata.uns['PhenoGraph_k'] = k"
   ]
  },
  {
   "cell_type": "code",
   "execution_count": null,
   "id": "505af36c",
   "metadata": {},
   "outputs": [],
   "source": [
    "sc.settings.verbosity = 0            # verbosity: errors (0), warnings (1), info (2), hints (3)\n",
    "sc.logging.print_header()\n",
    "print(\"phenograph==\", phenograph.__version__)\n",
    "sc.settings.set_figure_params(dpi=80, facecolor='white')"
   ]
  },
  {
   "cell_type": "code",
   "execution_count": null,
   "id": "65141662",
   "metadata": {},
   "outputs": [],
   "source": [
    "#Neigbor and UMAP analysis\n",
    "sc.pp.neighbors(adata, n_neighbors=15, n_pcs=10)\n",
    "sc.tl.umap(adata)\n",
    "sc.pl.umap(\n",
    "    adata, \n",
    "    color=['PhenoGraph_clusters'],\n",
    "    palette='tab20', # 'palette' specifies the colormap to use)\n",
    "    title=[\"Clusters\"]\n",
    ")"
   ]
  },
  {
   "cell_type": "code",
   "execution_count": null,
   "id": "9a684073",
   "metadata": {},
   "outputs": [],
   "source": [
    "# Umap per channel\n",
    "sc.pl.umap(adata, color = ['Marker1: Cell: Mean',  'Marker2: Cell: Mean', 'Marker3: Cell: Mean','Marker4: Cell: Mean', 'Marker5: Cell: Mean'])"
   ]
  },
  {
   "cell_type": "code",
   "execution_count": null,
   "id": "4a2822ce",
   "metadata": {},
   "outputs": [],
   "source": [
    "# change the name of the 'cluster' if you like the measurement name \n",
    "allCells['cluster'] = communities"
   ]
  },
  {
   "cell_type": "code",
   "execution_count": null,
   "id": "d7568f83",
   "metadata": {},
   "outputs": [],
   "source": [
    "NewDet = allCells.query(f\"imageN == '{image.image_name}'\")\n",
    "display(NewDet)"
   ]
  },
  {
   "cell_type": "code",
   "execution_count": null,
   "id": "69f4ff84",
   "metadata": {},
   "outputs": [],
   "source": [
    "#loop over all images to save image entry and save a new column with phenograph ID\n",
    "\n",
    "for image in qp.images:\n",
    "    NewDet = allCells.query(f\"imageN == '{image.image_name}'\")\n",
    "    detections= image.hierarchy.detections\n",
    "    assert len(detections) == len(NewDet), 'What?!'\n",
    "    # Send back to QuPath and save\n",
    "    for (detection, result) in zip(detections, NewDet['cluster']):\n",
    "        detection.measurements['NewCluster'] = float(result)\n",
    "        \n",
    "    image.save()\n",
    "#qp.save()\n",
    "    "
   ]
  }
 ],
 "metadata": {
  "kernelspec": {
   "display_name": "Python 3 (ipykernel)",
   "language": "python",
   "name": "python3"
  },
  "language_info": {
   "codemirror_mode": {
    "name": "ipython",
    "version": 3
   },
   "file_extension": ".py",
   "mimetype": "text/x-python",
   "name": "python",
   "nbconvert_exporter": "python",
   "pygments_lexer": "ipython3",
   "version": "3.10.10"
  }
 },
 "nbformat": 4,
 "nbformat_minor": 5
}
